{
 "cells": [
  {
   "cell_type": "markdown",
   "metadata": {
    "colab_type": "text",
    "id": "view-in-github"
   },
   "source": [
    "[![Binder](https://mybinder.org/badge_logo.svg)](https://mybinder.org/v2/gh/zavaleta/Fundamentos_DS/main)<a href=\"https://colab.research.google.com/github/zavaleta/Fundamentos_DS/blob/main/FCD_M1_0_Introducao.ipynb\" target=\"_parent\"><img src=\"https://colab.research.google.com/assets/colab-badge.svg\" alt=\"Open In Colab\"/></a>"
   ]
  },
  {
   "cell_type": "markdown",
   "metadata": {
    "id": "WJEBJ372kJml"
   },
   "source": [
    "![PPGI_UFRJ](https://github.com/zavaleta/Fundamentos_DS/blob/main/imagens/ppgi-ufrj.png?raw=1)\n",
    "# Fundamentos de Ciência de Dados"
   ]
  },
  {
   "cell_type": "markdown",
   "metadata": {},
   "source": [
    "---\n",
    "# PPGI/UFRJ 2020.3, 2022.2, 2024.2\n",
    "## Prof Sergio Serra e Jorge Zavaleta"
   ]
  },
  {
   "cell_type": "markdown",
   "metadata": {
    "id": "v1jqACqhkJmr"
   },
   "source": [
    "---\n",
    "# Módulo 1 - Introdução a Markdown"
   ]
  },
  {
   "cell_type": "markdown",
   "metadata": {
    "id": "P-vaVISHkJms"
   },
   "source": [
    "> ## O que é Markdown?"
   ]
  },
  {
   "cell_type": "markdown",
   "metadata": {
    "id": "PA75-r7MkJmt"
   },
   "source": [
    ">**Markdown é uma linguagem de marcação simples usada para formatar texto.** Foi criada por John Gruber e Aaron Swartz em 2004, ela permite que você adicione formatação como negrito, itálico, listas e links usando uma sintaxe baseada em caracteres comuns, como asteriscos e cerquilhas.\n",
    ">\n",
    ">A linguagem Markdown é amplamente utilizada em plataformas como GitHub para criar arquivos *README*, em blogs e em várias ferramentas de edição de texto devido à sua simplicidade e facilidade de conversão para *HTML*."
   ]
  },
  {
   "cell_type": "markdown",
   "metadata": {
    "id": "WRqMgoX1kJmt"
   },
   "source": [
    "## A linguagem Markdown"
   ]
  },
  {
   "cell_type": "markdown",
   "metadata": {},
   "source": [
    "Lista dos comandos em markdown e exemplos de uso:"
   ]
  },
  {
   "cell_type": "markdown",
   "metadata": {
    "id": "qjXmUgjxkJmv"
   },
   "source": [
    "### Titulos\n"
   ]
  },
  {
   "cell_type": "code",
   "execution_count": null,
   "metadata": {
    "id": "au-oUZ6bkJmv"
   },
   "outputs": [],
   "source": [
    "# Título <h1>\n",
    "## Título <h2>\n",
    "### Título <h3>\n",
    "#### Título <h4>\n",
    "##### Título <h5>\n",
    "###### Título <h6>"
   ]
  },
  {
   "cell_type": "markdown",
   "metadata": {},
   "source": [
    "### Exemplos de uso dos títulos\n",
    "> # Título 1\n",
    ">## Título 2\n",
    ">### Título 3\n",
    ">#### Título 4\n",
    ">##### Título 5"
   ]
  },
  {
   "cell_type": "markdown",
   "metadata": {},
   "source": [
    "### Ênfase"
   ]
  },
  {
   "cell_type": "markdown",
   "metadata": {},
   "source": [
    "Para adicionar ênfase ao conteúdo que será escrito, usa-se o asterisco ** ou traço-baixo (*underline*) _:"
   ]
  },
  {
   "cell_type": "markdown",
   "metadata": {},
   "source": [
    "- **Negrito**: adicione dois asteriscos `**texto**` ou dois traços-baixos `__texto__` no início e no fim do texto.\n",
    "- *Itálico*: adicione apenas um asterisco `*texto*` ou um traço-baixo `_texto_` no início e no fim do texto."
   ]
  },
  {
   "cell_type": "markdown",
   "metadata": {},
   "source": [
    "### Links"
   ]
  },
  {
   "cell_type": "markdown",
   "metadata": {},
   "source": [
    "Existem duas formas de inserir link em Markdown, através de um **link direto** ou usando um **texto-âncora**:\n",
    "\n",
    "- **Link direto**: envolva o endereço da web em chaves <>. O endereço ficará visível e será clicável pelo usuário. O endereço em forma de **link direto** tem o formato `<https://github.com/zavaleta/Fundamentos_DS/>`.\n",
    "\n",
    "- **Texto-âncora**: utilize os caracteres `[]()`, adicionando entre chaves o texto que você quer que apareça, e entre os parênteses, o endereço de destino, no formato `[Google](https://www.google.com/)`."
   ]
  },
  {
   "cell_type": "markdown",
   "metadata": {},
   "source": [
    "### Listas de itens"
   ]
  },
  {
   "cell_type": "markdown",
   "metadata": {},
   "source": [
    "Listas não ordenadas, utilizar um asterisco * na frente to item da lista:\n",
    "```\n",
    " * Item 1\n",
    " * Item 2\n",
    " * Item 3 \n",
    "```"
   ]
  },
  {
   "cell_type": "markdown",
   "metadata": {},
   "source": [
    "Listas ordenadas, utilizar o número do item seguido de ponto . :\n",
    "```\n",
    "1. Item 1\n",
    "2. Item 2\n",
    "3. Item 3\n",
    "```"
   ]
  },
  {
   "cell_type": "markdown",
   "metadata": {},
   "source": [
    "### Imagens"
   ]
  },
  {
   "cell_type": "markdown",
   "metadata": {},
   "source": [
    "O código para inserir uma imagem no texto é semelhante ao código de inserir links-âncora, adicionando um ponto de exclamação ! no início do código, como mostrado no exemplo abaixo:"
   ]
  },
  {
   "cell_type": "markdown",
   "metadata": {},
   "source": [
    "`![título da imagem](URL da imagem)`"
   ]
  },
  {
   "cell_type": "markdown",
   "metadata": {},
   "source": [
    "Exemplo de uso: `![github](imagens/git.png)`:\n",
    "\n",
    "![github](imagens/ppgi-ufrj.png)"
   ]
  },
  {
   "cell_type": "markdown",
   "metadata": {},
   "source": [
    "### Citação\n",
    "Para transformar um texto em uma citação ou comentário, semelhante ao código HTML`<blockquote>`, utilizar o sinal > no início da linha que será formatada."
   ]
  },
  {
   "cell_type": "markdown",
   "metadata": {},
   "source": [
    "Exemplo de uso:\n",
    "```\n",
    ">Este é um *blockquote*. O sinal usado abre e fecha este código no HTML. \n",
    ">Para adicionar mais uma linha à citação, basta teclar Enter para um novo\n",
    ">código sinal. Isso gerará um novo parágrafo dentro do *blockquote*.\n",
    ">Códigos de **negrito**, _itálico_ e <https://www.google.com> também funcionam aqui.\n",
    "```"
   ]
  },
  {
   "cell_type": "markdown",
   "metadata": {},
   "source": [
    "Visualização em HTML"
   ]
  },
  {
   "cell_type": "markdown",
   "metadata": {},
   "source": [
    ">Este é um *blockquote*. O sinal usado abre e fecha este código no HTML. \n",
    ">Para adicionar mais uma linha à citação, basta teclar Enter para um novo\n",
    ">código sinal. Isso gerará um novo parágrafo dentro do *blockquote*.\n",
    ">Códigos de **negrito**, _itálico_ e <https://www.google.com> também funcionam aqui."
   ]
  },
  {
   "cell_type": "markdown",
   "metadata": {},
   "source": [
    "### Código\n",
    "Há dois modos de adicionar trechos de código ao Markdown:\n",
    "- **Código em linha** (*inline*): adicione um acento grave ˋ no início e no final do código.\n",
    "- **Múltiplas linhas de código**: envolva as linhas de código com três acentos graves ˋˋˋ ou três tils ~~~."
   ]
  },
  {
   "cell_type": "markdown",
   "metadata": {},
   "source": [
    "Exemplo de uso:\n",
    "\n",
    "Esta é uma linha que contém uma chamada à função `numero_read(x)`.\n",
    "\n",
    "Código en várias linhas: Se pode especificar que tipo de linguagem está sendo apresentada no bloco de códigos adicionando o nome da linguagem de programação após o ˋˋˋ ou `~~~`. Veja o exemplos abaixo: ` ```python `\n",
    "\n",
    "```\n",
    "```python\n",
    "import numpy as np\n",
    "def numero_real(x):\n",
    "    x = np.float(x)\n",
    "    return x\n",
    " ```\n",
    "```"
   ]
  },
  {
   "cell_type": "markdown",
   "metadata": {},
   "source": [
    "Visualização de exemplo usando a linguagem Python:\n",
    "```python\n",
    "import numpy as np\n",
    "def numero_real(x):\n",
    "    x = np.float(x)\n",
    "    return x\n",
    " ```"
   ]
  },
  {
   "cell_type": "markdown",
   "metadata": {},
   "source": [
    "### Tabelas\n",
    "Escolha os títulos das colunas e use | para delimitar as colunas e hífen - na segunda linha para indicar que acima estão os títulos das colunas, usando novamente o | para delimitar colunas. Se pode especificar o tipo de alinhamento que deseja ter nas tabelas, utilize `:` ao lado do campo horizontal de hífens `---`, na segunda linha da sua tabela.\n",
    "\n",
    "Alinhamentos:\n",
    "- **Alinhado a esquerda**: usar `:` no lado esquerdo (alinhamento padrão);\n",
    "- **Centralizado**: usar `:` dos dois lados;\n",
    "- **Alinhado a direita**: usar `:` no lado direito.\n",
    "\n",
    "\n",
    "Veja o exemplo a seguir:"
   ]
  },
  {
   "cell_type": "markdown",
   "metadata": {},
   "source": [
    "```\n",
    "Nome       | Nota  | Aprovado \n",
    ":--------- |:-----:|--------:\n",
    "Aluno 1    | 9,5   | sim\n",
    "Aluno 2    | 8     | sim\n",
    "Aluno 3    | 7     | sim\n",
    "Aluno 4    | 4     | não\n",
    "```"
   ]
  },
  {
   "cell_type": "markdown",
   "metadata": {},
   "source": [
    "Visualização do exemplo de tabela \n",
    "Nome       | Nota  | Aprovado \n",
    ":--------- |:-----:|--------:\n",
    "Aluno 1    | 9,5   | sim\n",
    "Aluno 2    | 8     | sim\n",
    "Aluno 3    | 7     | sim\n",
    "Aluno 4    | 4     | não"
   ]
  },
  {
   "cell_type": "markdown",
   "metadata": {
    "id": "5AAXwPGWkWUL"
   },
   "source": [
    "# Latex"
   ]
  },
  {
   "cell_type": "markdown",
   "metadata": {
    "id": "a9q1k5vBkJmw"
   },
   "source": [
    "Latex:\n",
    "$x^{2}+4=0$"
   ]
  },
  {
   "cell_type": "markdown",
   "metadata": {
    "id": "5Nkn3ZFekJmw"
   },
   "source": [
    "---\n",
    "#### Fundamentos de Ciência de Dados &copy; Copyright 2021, 2022, 2024, Sergio Serra & Jorge Zavaleta"
   ]
  }
 ],
 "metadata": {
  "colab": {
   "include_colab_link": true,
   "name": "FCD_M1_0_Introducao.ipynb",
   "provenance": []
  },
  "kernelspec": {
   "display_name": "Python 3 (ipykernel)",
   "language": "python",
   "name": "python3"
  },
  "language_info": {
   "codemirror_mode": {
    "name": "ipython",
    "version": 3
   },
   "file_extension": ".py",
   "mimetype": "text/x-python",
   "name": "python",
   "nbconvert_exporter": "python",
   "pygments_lexer": "ipython3",
   "version": "3.9.12"
  }
 },
 "nbformat": 4,
 "nbformat_minor": 1
}
